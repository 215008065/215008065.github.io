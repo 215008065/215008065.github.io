{
  "nbformat": 4,
  "nbformat_minor": 0,
  "metadata": {
    "colab": {
      "provenance": [],
      "authorship_tag": "ABX9TyPaP+p8xvFmGQaMd2idVSDb",
      "include_colab_link": true
    },
    "kernelspec": {
      "name": "python3",
      "display_name": "Python 3"
    },
    "language_info": {
      "name": "python"
    }
  },
  "cells": [
    {
      "cell_type": "markdown",
      "metadata": {
        "id": "view-in-github",
        "colab_type": "text"
      },
      "source": [
        "<a href=\"https://colab.research.google.com/github/ShefikaBenjaminH/215008065.github.io/blob/main/Anti_Money_laundering.ipynb\" target=\"_parent\"><img src=\"https://colab.research.google.com/assets/colab-badge.svg\" alt=\"Open In Colab\"/></a>"
      ]
    },
    {
      "cell_type": "markdown",
      "source": [
        "#**Anti-Money laundering**"
      ],
      "metadata": {
        "id": "w9qSMnYNmuST"
      }
    },
    {
      "cell_type": "markdown",
      "source": [
        "The illegal process of making proceeds of crime appear legitimate. Disguising\n",
        "such from its true criminal origin. The process of laundering money typically involves three steps:\n",
        "\n",
        "\n",
        "\n",
        "1.   placement\n",
        "2.   layering\n",
        "3.   integration\n",
        "\n",
        "**placement**\n",
        "\n",
        "Placement puts the \"illicit proceeds or money\" into the legitimate\n",
        "financial system.\n",
        "\n",
        "\n",
        "**layering**\n",
        "\n",
        "Layering conceals the source of the money through a series of transactions and\n",
        "bookkeeping tricks.\n",
        "\n",
        "\n",
        "**integration**\n",
        "\n",
        "Integration, the now-laundered money is withdrawn from the\n",
        "legitimate account to be used for whatever purposes the criminals have in mind for it."
      ],
      "metadata": {
        "id": "Hr7nMi7Wmqe6"
      }
    },
    {
      "cell_type": "markdown",
      "source": [
        "**Transactions Monitoring**"
      ],
      "metadata": {
        "id": "p8NZLHgTndi5"
      }
    },
    {
      "cell_type": "markdown",
      "source": [
        "What is transaction monitoring\n",
        "\n",
        "A process of reviewing customer transactions and matching them against customer risk profile and usual transaction pattern. Subsequenctly, perform a focused examination of transactions and identification of suspicious transcations.\n",
        "\n",
        "Transactions may include the following:\n",
        "\n",
        "*   **Transfer**\n",
        "*   **Deposits**\n",
        "*   **Withdrawals**\n",
        "\n",
        "\n",
        "\n",
        "\n"
      ],
      "metadata": {
        "id": "EZOwpaWxM6nT"
      }
    },
    {
      "cell_type": "markdown",
      "source": [
        "The objective of this report is:\n",
        "\n",
        "**To protect bank from:**\n",
        "*   Any transaction that may lead to money laudering and terrorist financing\n",
        "*   Regulatory fines/penalties for not identifying such transactions\n"
      ],
      "metadata": {
        "id": "QclcCpqvM6u_"
      }
    },
    {
      "cell_type": "markdown",
      "source": [
        "Anti-Money Laundering Can be mitigated by impleminting a risk-based approach but before we get into that there is a few questions that one should consider before moving further:\n",
        "\n",
        "*   Use of of technology in monitoring of transactions?\n",
        "*   Should all transactions be monitored\n",
        "*   Should all transactions should be monitored with the same approach\n",
        "*   What level should transaction be monitored.\n",
        "\n",
        "\n"
      ],
      "metadata": {
        "id": "wJcZqoq8M6zD"
      }
    },
    {
      "cell_type": "markdown",
      "source": [
        "NB: The systems for monoitoring and reporting suspicious activity should be risk-based, and should be determined by factors such as the bank's size, the nature of it's business, it's location, frequency and size of transaction and the types and geographical location of it's customers."
      ],
      "metadata": {
        "id": "mwqeZngpM64i"
      }
    },
    {
      "cell_type": "markdown",
      "source": [
        "**Below is a few transactions monitoring rules that can indicate possible AML/TF and this may help in identifying the risk.**\n",
        "\n",
        "1.   Consolidation transction close to threshold\n",
        "2.   High volume of transactions\n",
        "3.   Change in customer profile before large transactions\n",
        "4.   Overall increase in transcation volume\n",
        "5.   Payment made with same IP address\n",
        "6.   frequency of withdrawal and deposits\n",
        "7.   Suspicious spend behaviour\n",
        "8.   Lower buyer diversity\n",
        "9.   High transactions count from new users"
      ],
      "metadata": {
        "id": "CT5-Hhc9RTBA"
      }
    },
    {
      "cell_type": "markdown",
      "source": [
        "This are some of the key red flags when it comes to identifying AML/TF through transaction monitoring:\n",
        "\n",
        "\n",
        "*   Customer who is a public officials, open an account in the name of the family member who begins making large deposits not consistent with the known sources of legitimate family income.\n",
        "\n",
        "*   Transactions that involve depositing large amounts of cash incosistent with the normal and expected activity of the customer\n",
        "\n",
        "*   Customer who is a student, uncharacteristically transfer or exchange large sums of money\n",
        "\n",
        "*   Account shows high velocity in the movement if funds, but maintains low beginning and ending daily balances.\n",
        "*   Transactions involvels offshore institutions whose names resemble those well-known legitimate financial institutions\n",
        "\n"
      ],
      "metadata": {
        "id": "YcOT_FlpUe1C"
      }
    },
    {
      "cell_type": "code",
      "execution_count": null,
      "metadata": {
        "id": "QOgUb8QlqR1I"
      },
      "outputs": [],
      "source": [
        "import pandas as pd\n",
        "import numpy as np\n",
        "import matplotlib.pyplot as plt"
      ]
    },
    {
      "cell_type": "markdown",
      "source": [
        "#**Transactions**"
      ],
      "metadata": {
        "id": "67JgJsz9HO9d"
      }
    },
    {
      "cell_type": "markdown",
      "source": [
        "**Transactions dataset**: Contains the list of all the transactions with information about sender and receiver accounts."
      ],
      "metadata": {
        "id": "gAuzfSBYWUj3"
      }
    },
    {
      "cell_type": "markdown",
      "source": [
        "The AML project is intended to provide a **multi-agent** based simulator that generates synthetic banking transaction data together with a set of known money laundering patterns\n",
        "\n",
        "- Mainly for the purpose of testing machine learning models and graph algorithms."
      ],
      "metadata": {
        "id": "OK9--ju46404"
      }
    },
    {
      "cell_type": "code",
      "source": [
        "#Importing the transactions dataset\n",
        "df_transactions = pd.read_csv(\"transactions.csv\")"
      ],
      "metadata": {
        "id": "D8SLYn-PsNr-"
      },
      "execution_count": null,
      "outputs": []
    },
    {
      "cell_type": "code",
      "source": [
        "#displaying the shape of the dataset\n",
        "\n",
        "df_transactions.shape"
      ],
      "metadata": {
        "colab": {
          "base_uri": "https://localhost:8080/"
        },
        "id": "CUgUGWQ34UDW",
        "outputId": "3e69afda-7d6e-4b10-f850-e92bd683cb5e"
      },
      "execution_count": null,
      "outputs": [
        {
          "output_type": "execute_result",
          "data": {
            "text/plain": [
              "(1323234, 8)"
            ]
          },
          "metadata": {},
          "execution_count": 3
        }
      ]
    },
    {
      "cell_type": "code",
      "source": [
        "#Looking at the head of the dataset\n",
        "\n",
        "df_transactions.head()"
      ],
      "metadata": {
        "colab": {
          "base_uri": "https://localhost:8080/",
          "height": 206
        },
        "id": "hwCTRig7sWZ8",
        "outputId": "ebf19f07-fa5d-410e-86e7-751d4b911625"
      },
      "execution_count": null,
      "outputs": [
        {
          "output_type": "execute_result",
          "data": {
            "text/plain": [
              "   TX_ID  SENDER_ACCOUNT_ID  RECEIVER_ACCOUNT_ID   TX_TYPE  TX_AMOUNT  \\\n",
              "0      1               6456                 9069  TRANSFER     465.05   \n",
              "1      2               7516                 9543  TRANSFER     564.64   \n",
              "2      3               2445                 9356  TRANSFER     598.94   \n",
              "3      4               2576                 4617  TRANSFER     466.07   \n",
              "4      5               3524                 1773  TRANSFER     405.63   \n",
              "\n",
              "   TIMESTAMP  IS_FRAUD  ALERT_ID  \n",
              "0          0     False        -1  \n",
              "1          0     False        -1  \n",
              "2          0     False        -1  \n",
              "3          0     False        -1  \n",
              "4          0     False        -1  "
            ],
            "text/html": [
              "\n",
              "  <div id=\"df-8078b099-0728-4e05-a360-7404b5f8e5c6\">\n",
              "    <div class=\"colab-df-container\">\n",
              "      <div>\n",
              "<style scoped>\n",
              "    .dataframe tbody tr th:only-of-type {\n",
              "        vertical-align: middle;\n",
              "    }\n",
              "\n",
              "    .dataframe tbody tr th {\n",
              "        vertical-align: top;\n",
              "    }\n",
              "\n",
              "    .dataframe thead th {\n",
              "        text-align: right;\n",
              "    }\n",
              "</style>\n",
              "<table border=\"1\" class=\"dataframe\">\n",
              "  <thead>\n",
              "    <tr style=\"text-align: right;\">\n",
              "      <th></th>\n",
              "      <th>TX_ID</th>\n",
              "      <th>SENDER_ACCOUNT_ID</th>\n",
              "      <th>RECEIVER_ACCOUNT_ID</th>\n",
              "      <th>TX_TYPE</th>\n",
              "      <th>TX_AMOUNT</th>\n",
              "      <th>TIMESTAMP</th>\n",
              "      <th>IS_FRAUD</th>\n",
              "      <th>ALERT_ID</th>\n",
              "    </tr>\n",
              "  </thead>\n",
              "  <tbody>\n",
              "    <tr>\n",
              "      <th>0</th>\n",
              "      <td>1</td>\n",
              "      <td>6456</td>\n",
              "      <td>9069</td>\n",
              "      <td>TRANSFER</td>\n",
              "      <td>465.05</td>\n",
              "      <td>0</td>\n",
              "      <td>False</td>\n",
              "      <td>-1</td>\n",
              "    </tr>\n",
              "    <tr>\n",
              "      <th>1</th>\n",
              "      <td>2</td>\n",
              "      <td>7516</td>\n",
              "      <td>9543</td>\n",
              "      <td>TRANSFER</td>\n",
              "      <td>564.64</td>\n",
              "      <td>0</td>\n",
              "      <td>False</td>\n",
              "      <td>-1</td>\n",
              "    </tr>\n",
              "    <tr>\n",
              "      <th>2</th>\n",
              "      <td>3</td>\n",
              "      <td>2445</td>\n",
              "      <td>9356</td>\n",
              "      <td>TRANSFER</td>\n",
              "      <td>598.94</td>\n",
              "      <td>0</td>\n",
              "      <td>False</td>\n",
              "      <td>-1</td>\n",
              "    </tr>\n",
              "    <tr>\n",
              "      <th>3</th>\n",
              "      <td>4</td>\n",
              "      <td>2576</td>\n",
              "      <td>4617</td>\n",
              "      <td>TRANSFER</td>\n",
              "      <td>466.07</td>\n",
              "      <td>0</td>\n",
              "      <td>False</td>\n",
              "      <td>-1</td>\n",
              "    </tr>\n",
              "    <tr>\n",
              "      <th>4</th>\n",
              "      <td>5</td>\n",
              "      <td>3524</td>\n",
              "      <td>1773</td>\n",
              "      <td>TRANSFER</td>\n",
              "      <td>405.63</td>\n",
              "      <td>0</td>\n",
              "      <td>False</td>\n",
              "      <td>-1</td>\n",
              "    </tr>\n",
              "  </tbody>\n",
              "</table>\n",
              "</div>\n",
              "      <button class=\"colab-df-convert\" onclick=\"convertToInteractive('df-8078b099-0728-4e05-a360-7404b5f8e5c6')\"\n",
              "              title=\"Convert this dataframe to an interactive table.\"\n",
              "              style=\"display:none;\">\n",
              "        \n",
              "  <svg xmlns=\"http://www.w3.org/2000/svg\" height=\"24px\"viewBox=\"0 0 24 24\"\n",
              "       width=\"24px\">\n",
              "    <path d=\"M0 0h24v24H0V0z\" fill=\"none\"/>\n",
              "    <path d=\"M18.56 5.44l.94 2.06.94-2.06 2.06-.94-2.06-.94-.94-2.06-.94 2.06-2.06.94zm-11 1L8.5 8.5l.94-2.06 2.06-.94-2.06-.94L8.5 2.5l-.94 2.06-2.06.94zm10 10l.94 2.06.94-2.06 2.06-.94-2.06-.94-.94-2.06-.94 2.06-2.06.94z\"/><path d=\"M17.41 7.96l-1.37-1.37c-.4-.4-.92-.59-1.43-.59-.52 0-1.04.2-1.43.59L10.3 9.45l-7.72 7.72c-.78.78-.78 2.05 0 2.83L4 21.41c.39.39.9.59 1.41.59.51 0 1.02-.2 1.41-.59l7.78-7.78 2.81-2.81c.8-.78.8-2.07 0-2.86zM5.41 20L4 18.59l7.72-7.72 1.47 1.35L5.41 20z\"/>\n",
              "  </svg>\n",
              "      </button>\n",
              "      \n",
              "  <style>\n",
              "    .colab-df-container {\n",
              "      display:flex;\n",
              "      flex-wrap:wrap;\n",
              "      gap: 12px;\n",
              "    }\n",
              "\n",
              "    .colab-df-convert {\n",
              "      background-color: #E8F0FE;\n",
              "      border: none;\n",
              "      border-radius: 50%;\n",
              "      cursor: pointer;\n",
              "      display: none;\n",
              "      fill: #1967D2;\n",
              "      height: 32px;\n",
              "      padding: 0 0 0 0;\n",
              "      width: 32px;\n",
              "    }\n",
              "\n",
              "    .colab-df-convert:hover {\n",
              "      background-color: #E2EBFA;\n",
              "      box-shadow: 0px 1px 2px rgba(60, 64, 67, 0.3), 0px 1px 3px 1px rgba(60, 64, 67, 0.15);\n",
              "      fill: #174EA6;\n",
              "    }\n",
              "\n",
              "    [theme=dark] .colab-df-convert {\n",
              "      background-color: #3B4455;\n",
              "      fill: #D2E3FC;\n",
              "    }\n",
              "\n",
              "    [theme=dark] .colab-df-convert:hover {\n",
              "      background-color: #434B5C;\n",
              "      box-shadow: 0px 1px 3px 1px rgba(0, 0, 0, 0.15);\n",
              "      filter: drop-shadow(0px 1px 2px rgba(0, 0, 0, 0.3));\n",
              "      fill: #FFFFFF;\n",
              "    }\n",
              "  </style>\n",
              "\n",
              "      <script>\n",
              "        const buttonEl =\n",
              "          document.querySelector('#df-8078b099-0728-4e05-a360-7404b5f8e5c6 button.colab-df-convert');\n",
              "        buttonEl.style.display =\n",
              "          google.colab.kernel.accessAllowed ? 'block' : 'none';\n",
              "\n",
              "        async function convertToInteractive(key) {\n",
              "          const element = document.querySelector('#df-8078b099-0728-4e05-a360-7404b5f8e5c6');\n",
              "          const dataTable =\n",
              "            await google.colab.kernel.invokeFunction('convertToInteractive',\n",
              "                                                     [key], {});\n",
              "          if (!dataTable) return;\n",
              "\n",
              "          const docLinkHtml = 'Like what you see? Visit the ' +\n",
              "            '<a target=\"_blank\" href=https://colab.research.google.com/notebooks/data_table.ipynb>data table notebook</a>'\n",
              "            + ' to learn more about interactive tables.';\n",
              "          element.innerHTML = '';\n",
              "          dataTable['output_type'] = 'display_data';\n",
              "          await google.colab.output.renderOutput(dataTable, element);\n",
              "          const docLink = document.createElement('div');\n",
              "          docLink.innerHTML = docLinkHtml;\n",
              "          element.appendChild(docLink);\n",
              "        }\n",
              "      </script>\n",
              "    </div>\n",
              "  </div>\n",
              "  "
            ]
          },
          "metadata": {},
          "execution_count": 4
        }
      ]
    },
    {
      "cell_type": "code",
      "source": [
        "#filtering out the transactions that are suspected to be fraud\n",
        "\n",
        "df_transactions_fraud = df_transactions[df_transactions[\"IS_FRAUD\"]==True]\n",
        "df_transactions_fraud.shape"
      ],
      "metadata": {
        "id": "7DA4GeAQvNht",
        "colab": {
          "base_uri": "https://localhost:8080/"
        },
        "outputId": "3ece6772-16ac-4cf8-b23e-f9886d26feaf"
      },
      "execution_count": null,
      "outputs": [
        {
          "output_type": "execute_result",
          "data": {
            "text/plain": [
              "(1719, 8)"
            ]
          },
          "metadata": {},
          "execution_count": 5
        }
      ]
    },
    {
      "cell_type": "markdown",
      "source": [
        "#**Highilighting the Transactions monitoring rules**"
      ],
      "metadata": {
        "id": "-eCMaMPT9EyS"
      }
    },
    {
      "cell_type": "markdown",
      "source": [
        "**1. High volume of transactions**"
      ],
      "metadata": {
        "id": "iMixGo7q9S5v"
      }
    },
    {
      "cell_type": "markdown",
      "source": [
        "This transactions are suspicious because they are not consistent with the normality of the same account. Also, There is a high frequency of the same amount that is being transfered from various Sender Accounts to one Reciever Acount."
      ],
      "metadata": {
        "id": "PsGrf0L6ASr2"
      }
    },
    {
      "cell_type": "code",
      "source": [
        "df_transactions_fraud[df_transactions_fraud[\"RECEIVER_ACCOUNT_ID\"]== 9967]"
      ],
      "metadata": {
        "colab": {
          "base_uri": "https://localhost:8080/",
          "height": 238
        },
        "id": "cyZ4xiL0_68I",
        "outputId": "eb752a15-2cd4-42a3-a371-9082e38c1053"
      },
      "execution_count": null,
      "outputs": [
        {
          "output_type": "execute_result",
          "data": {
            "text/plain": [
              "         TX_ID  SENDER_ACCOUNT_ID  RECEIVER_ACCOUNT_ID   TX_TYPE  TX_AMOUNT  \\\n",
              "709557  709558               8605                 9967  TRANSFER      16.61   \n",
              "766829  766830               9797                 9967  TRANSFER       4.70   \n",
              "777954  777955               5493                 9967  TRANSFER      18.98   \n",
              "781092  781093               1749                 9967  TRANSFER       4.70   \n",
              "791726  791727               8221                 9967  TRANSFER       4.70   \n",
              "806783  806784               8934                 9967  TRANSFER       4.70   \n",
              "\n",
              "        TIMESTAMP  IS_FRAUD  ALERT_ID  \n",
              "709557        107      True       254  \n",
              "766829        116      True         9  \n",
              "777954        118      True       262  \n",
              "781092        118      True         9  \n",
              "791726        120      True         9  \n",
              "806783        122      True         9  "
            ],
            "text/html": [
              "\n",
              "  <div id=\"df-d0b5319b-f40f-47e2-9d22-3bcffa5751f5\">\n",
              "    <div class=\"colab-df-container\">\n",
              "      <div>\n",
              "<style scoped>\n",
              "    .dataframe tbody tr th:only-of-type {\n",
              "        vertical-align: middle;\n",
              "    }\n",
              "\n",
              "    .dataframe tbody tr th {\n",
              "        vertical-align: top;\n",
              "    }\n",
              "\n",
              "    .dataframe thead th {\n",
              "        text-align: right;\n",
              "    }\n",
              "</style>\n",
              "<table border=\"1\" class=\"dataframe\">\n",
              "  <thead>\n",
              "    <tr style=\"text-align: right;\">\n",
              "      <th></th>\n",
              "      <th>TX_ID</th>\n",
              "      <th>SENDER_ACCOUNT_ID</th>\n",
              "      <th>RECEIVER_ACCOUNT_ID</th>\n",
              "      <th>TX_TYPE</th>\n",
              "      <th>TX_AMOUNT</th>\n",
              "      <th>TIMESTAMP</th>\n",
              "      <th>IS_FRAUD</th>\n",
              "      <th>ALERT_ID</th>\n",
              "    </tr>\n",
              "  </thead>\n",
              "  <tbody>\n",
              "    <tr>\n",
              "      <th>709557</th>\n",
              "      <td>709558</td>\n",
              "      <td>8605</td>\n",
              "      <td>9967</td>\n",
              "      <td>TRANSFER</td>\n",
              "      <td>16.61</td>\n",
              "      <td>107</td>\n",
              "      <td>True</td>\n",
              "      <td>254</td>\n",
              "    </tr>\n",
              "    <tr>\n",
              "      <th>766829</th>\n",
              "      <td>766830</td>\n",
              "      <td>9797</td>\n",
              "      <td>9967</td>\n",
              "      <td>TRANSFER</td>\n",
              "      <td>4.70</td>\n",
              "      <td>116</td>\n",
              "      <td>True</td>\n",
              "      <td>9</td>\n",
              "    </tr>\n",
              "    <tr>\n",
              "      <th>777954</th>\n",
              "      <td>777955</td>\n",
              "      <td>5493</td>\n",
              "      <td>9967</td>\n",
              "      <td>TRANSFER</td>\n",
              "      <td>18.98</td>\n",
              "      <td>118</td>\n",
              "      <td>True</td>\n",
              "      <td>262</td>\n",
              "    </tr>\n",
              "    <tr>\n",
              "      <th>781092</th>\n",
              "      <td>781093</td>\n",
              "      <td>1749</td>\n",
              "      <td>9967</td>\n",
              "      <td>TRANSFER</td>\n",
              "      <td>4.70</td>\n",
              "      <td>118</td>\n",
              "      <td>True</td>\n",
              "      <td>9</td>\n",
              "    </tr>\n",
              "    <tr>\n",
              "      <th>791726</th>\n",
              "      <td>791727</td>\n",
              "      <td>8221</td>\n",
              "      <td>9967</td>\n",
              "      <td>TRANSFER</td>\n",
              "      <td>4.70</td>\n",
              "      <td>120</td>\n",
              "      <td>True</td>\n",
              "      <td>9</td>\n",
              "    </tr>\n",
              "    <tr>\n",
              "      <th>806783</th>\n",
              "      <td>806784</td>\n",
              "      <td>8934</td>\n",
              "      <td>9967</td>\n",
              "      <td>TRANSFER</td>\n",
              "      <td>4.70</td>\n",
              "      <td>122</td>\n",
              "      <td>True</td>\n",
              "      <td>9</td>\n",
              "    </tr>\n",
              "  </tbody>\n",
              "</table>\n",
              "</div>\n",
              "      <button class=\"colab-df-convert\" onclick=\"convertToInteractive('df-d0b5319b-f40f-47e2-9d22-3bcffa5751f5')\"\n",
              "              title=\"Convert this dataframe to an interactive table.\"\n",
              "              style=\"display:none;\">\n",
              "        \n",
              "  <svg xmlns=\"http://www.w3.org/2000/svg\" height=\"24px\"viewBox=\"0 0 24 24\"\n",
              "       width=\"24px\">\n",
              "    <path d=\"M0 0h24v24H0V0z\" fill=\"none\"/>\n",
              "    <path d=\"M18.56 5.44l.94 2.06.94-2.06 2.06-.94-2.06-.94-.94-2.06-.94 2.06-2.06.94zm-11 1L8.5 8.5l.94-2.06 2.06-.94-2.06-.94L8.5 2.5l-.94 2.06-2.06.94zm10 10l.94 2.06.94-2.06 2.06-.94-2.06-.94-.94-2.06-.94 2.06-2.06.94z\"/><path d=\"M17.41 7.96l-1.37-1.37c-.4-.4-.92-.59-1.43-.59-.52 0-1.04.2-1.43.59L10.3 9.45l-7.72 7.72c-.78.78-.78 2.05 0 2.83L4 21.41c.39.39.9.59 1.41.59.51 0 1.02-.2 1.41-.59l7.78-7.78 2.81-2.81c.8-.78.8-2.07 0-2.86zM5.41 20L4 18.59l7.72-7.72 1.47 1.35L5.41 20z\"/>\n",
              "  </svg>\n",
              "      </button>\n",
              "      \n",
              "  <style>\n",
              "    .colab-df-container {\n",
              "      display:flex;\n",
              "      flex-wrap:wrap;\n",
              "      gap: 12px;\n",
              "    }\n",
              "\n",
              "    .colab-df-convert {\n",
              "      background-color: #E8F0FE;\n",
              "      border: none;\n",
              "      border-radius: 50%;\n",
              "      cursor: pointer;\n",
              "      display: none;\n",
              "      fill: #1967D2;\n",
              "      height: 32px;\n",
              "      padding: 0 0 0 0;\n",
              "      width: 32px;\n",
              "    }\n",
              "\n",
              "    .colab-df-convert:hover {\n",
              "      background-color: #E2EBFA;\n",
              "      box-shadow: 0px 1px 2px rgba(60, 64, 67, 0.3), 0px 1px 3px 1px rgba(60, 64, 67, 0.15);\n",
              "      fill: #174EA6;\n",
              "    }\n",
              "\n",
              "    [theme=dark] .colab-df-convert {\n",
              "      background-color: #3B4455;\n",
              "      fill: #D2E3FC;\n",
              "    }\n",
              "\n",
              "    [theme=dark] .colab-df-convert:hover {\n",
              "      background-color: #434B5C;\n",
              "      box-shadow: 0px 1px 3px 1px rgba(0, 0, 0, 0.15);\n",
              "      filter: drop-shadow(0px 1px 2px rgba(0, 0, 0, 0.3));\n",
              "      fill: #FFFFFF;\n",
              "    }\n",
              "  </style>\n",
              "\n",
              "      <script>\n",
              "        const buttonEl =\n",
              "          document.querySelector('#df-d0b5319b-f40f-47e2-9d22-3bcffa5751f5 button.colab-df-convert');\n",
              "        buttonEl.style.display =\n",
              "          google.colab.kernel.accessAllowed ? 'block' : 'none';\n",
              "\n",
              "        async function convertToInteractive(key) {\n",
              "          const element = document.querySelector('#df-d0b5319b-f40f-47e2-9d22-3bcffa5751f5');\n",
              "          const dataTable =\n",
              "            await google.colab.kernel.invokeFunction('convertToInteractive',\n",
              "                                                     [key], {});\n",
              "          if (!dataTable) return;\n",
              "\n",
              "          const docLinkHtml = 'Like what you see? Visit the ' +\n",
              "            '<a target=\"_blank\" href=https://colab.research.google.com/notebooks/data_table.ipynb>data table notebook</a>'\n",
              "            + ' to learn more about interactive tables.';\n",
              "          element.innerHTML = '';\n",
              "          dataTable['output_type'] = 'display_data';\n",
              "          await google.colab.output.renderOutput(dataTable, element);\n",
              "          const docLink = document.createElement('div');\n",
              "          docLink.innerHTML = docLinkHtml;\n",
              "          element.appendChild(docLink);\n",
              "        }\n",
              "      </script>\n",
              "    </div>\n",
              "  </div>\n",
              "  "
            ]
          },
          "metadata": {},
          "execution_count": 6
        }
      ]
    },
    {
      "cell_type": "code",
      "source": [
        "df_transactions_fraud[df_transactions_fraud[\"RECEIVER_ACCOUNT_ID\"]==9967].set_index(\"SENDER_ACCOUNT_ID\")[\"TX_AMOUNT\"].plot(kind=\"barh\")\n",
        "plt.xlabel(\"TX_AMOUNT($)\")\n",
        "plt.show()"
      ],
      "metadata": {
        "colab": {
          "base_uri": "https://localhost:8080/",
          "height": 280
        },
        "id": "SBLrZCwQw__5",
        "outputId": "e1ca1610-7d20-410d-ac82-c85ae1a63216"
      },
      "execution_count": null,
      "outputs": [
        {
          "output_type": "display_data",
          "data": {
            "text/plain": [
              "<Figure size 432x288 with 1 Axes>"
            ],
            "image/png": "[encoded data removed]"
          },
          "metadata": {
            "needs_background": "light"
          }
        }
      ]
    },
    {
      "cell_type": "code",
      "source": [
        "df_transactions_fraud[df_transactions_fraud[\"RECEIVER_ACCOUNT_ID\"]==9886]"
      ],
      "metadata": {
        "colab": {
          "base_uri": "https://localhost:8080/",
          "height": 238
        },
        "id": "ZlVL8g3E_SH_",
        "outputId": "a87994bc-4e51-4d07-fb62-e2bf69f69dee"
      },
      "execution_count": null,
      "outputs": [
        {
          "output_type": "execute_result",
          "data": {
            "text/plain": [
              "           TX_ID  SENDER_ACCOUNT_ID  RECEIVER_ACCOUNT_ID   TX_TYPE  TX_AMOUNT  \\\n",
              "346184    346185               9202                 9886  TRANSFER      19.60   \n",
              "846992    846993               4657                 9886  TRANSFER       3.48   \n",
              "862285    862286               6939                 9886  TRANSFER       3.48   \n",
              "872195    872196               2469                 9886  TRANSFER       3.48   \n",
              "885541    885542               6559                 9886  TRANSFER       3.48   \n",
              "1085675  1085676               8354                 9886  TRANSFER      14.96   \n",
              "\n",
              "         TIMESTAMP  IS_FRAUD  ALERT_ID  \n",
              "346184          52      True       379  \n",
              "846992         128      True       155  \n",
              "862285         130      True       155  \n",
              "872195         132      True       155  \n",
              "885541         134      True       155  \n",
              "1085675        164      True       250  "
            ],
            "text/html": [
              "\n",
              "  <div id=\"df-0dc39d80-63a4-4bf1-9d4b-5372f9b072d1\">\n",
              "    <div class=\"colab-df-container\">\n",
              "      <div>\n",
              "<style scoped>\n",
              "    .dataframe tbody tr th:only-of-type {\n",
              "        vertical-align: middle;\n",
              "    }\n",
              "\n",
              "    .dataframe tbody tr th {\n",
              "        vertical-align: top;\n",
              "    }\n",
              "\n",
              "    .dataframe thead th {\n",
              "        text-align: right;\n",
              "    }\n",
              "</style>\n",
              "<table border=\"1\" class=\"dataframe\">\n",
              "  <thead>\n",
              "    <tr style=\"text-align: right;\">\n",
              "      <th></th>\n",
              "      <th>TX_ID</th>\n",
              "      <th>SENDER_ACCOUNT_ID</th>\n",
              "      <th>RECEIVER_ACCOUNT_ID</th>\n",
              "      <th>TX_TYPE</th>\n",
              "      <th>TX_AMOUNT</th>\n",
              "      <th>TIMESTAMP</th>\n",
              "      <th>IS_FRAUD</th>\n",
              "      <th>ALERT_ID</th>\n",
              "    </tr>\n",
              "  </thead>\n",
              "  <tbody>\n",
              "    <tr>\n",
              "      <th>346184</th>\n",
              "      <td>346185</td>\n",
              "      <td>9202</td>\n",
              "      <td>9886</td>\n",
              "      <td>TRANSFER</td>\n",
              "      <td>19.60</td>\n",
              "      <td>52</td>\n",
              "      <td>True</td>\n",
              "      <td>379</td>\n",
              "    </tr>\n",
              "    <tr>\n",
              "      <th>846992</th>\n",
              "      <td>846993</td>\n",
              "      <td>4657</td>\n",
              "      <td>9886</td>\n",
              "      <td>TRANSFER</td>\n",
              "      <td>3.48</td>\n",
              "      <td>128</td>\n",
              "      <td>True</td>\n",
              "      <td>155</td>\n",
              "    </tr>\n",
              "    <tr>\n",
              "      <th>862285</th>\n",
              "      <td>862286</td>\n",
              "      <td>6939</td>\n",
              "      <td>9886</td>\n",
              "      <td>TRANSFER</td>\n",
              "      <td>3.48</td>\n",
              "      <td>130</td>\n",
              "      <td>True</td>\n",
              "      <td>155</td>\n",
              "    </tr>\n",
              "    <tr>\n",
              "      <th>872195</th>\n",
              "      <td>872196</td>\n",
              "      <td>2469</td>\n",
              "      <td>9886</td>\n",
              "      <td>TRANSFER</td>\n",
              "      <td>3.48</td>\n",
              "      <td>132</td>\n",
              "      <td>True</td>\n",
              "      <td>155</td>\n",
              "    </tr>\n",
              "    <tr>\n",
              "      <th>885541</th>\n",
              "      <td>885542</td>\n",
              "      <td>6559</td>\n",
              "      <td>9886</td>\n",
              "      <td>TRANSFER</td>\n",
              "      <td>3.48</td>\n",
              "      <td>134</td>\n",
              "      <td>True</td>\n",
              "      <td>155</td>\n",
              "    </tr>\n",
              "    <tr>\n",
              "      <th>1085675</th>\n",
              "      <td>1085676</td>\n",
              "      <td>8354</td>\n",
              "      <td>9886</td>\n",
              "      <td>TRANSFER</td>\n",
              "      <td>14.96</td>\n",
              "      <td>164</td>\n",
              "      <td>True</td>\n",
              "      <td>250</td>\n",
              "    </tr>\n",
              "  </tbody>\n",
              "</table>\n",
              "</div>\n",
              "      <button class=\"colab-df-convert\" onclick=\"convertToInteractive('df-0dc39d80-63a4-4bf1-9d4b-5372f9b072d1')\"\n",
              "              title=\"Convert this dataframe to an interactive table.\"\n",
              "              style=\"display:none;\">\n",
              "        \n",
              "  <svg xmlns=\"http://www.w3.org/2000/svg\" height=\"24px\"viewBox=\"0 0 24 24\"\n",
              "       width=\"24px\">\n",
              "    <path d=\"M0 0h24v24H0V0z\" fill=\"none\"/>\n",
              "    <path d=\"M18.56 5.44l.94 2.06.94-2.06 2.06-.94-2.06-.94-.94-2.06-.94 2.06-2.06.94zm-11 1L8.5 8.5l.94-2.06 2.06-.94-2.06-.94L8.5 2.5l-.94 2.06-2.06.94zm10 10l.94 2.06.94-2.06 2.06-.94-2.06-.94-.94-2.06-.94 2.06-2.06.94z\"/><path d=\"M17.41 7.96l-1.37-1.37c-.4-.4-.92-.59-1.43-.59-.52 0-1.04.2-1.43.59L10.3 9.45l-7.72 7.72c-.78.78-.78 2.05 0 2.83L4 21.41c.39.39.9.59 1.41.59.51 0 1.02-.2 1.41-.59l7.78-7.78 2.81-2.81c.8-.78.8-2.07 0-2.86zM5.41 20L4 18.59l7.72-7.72 1.47 1.35L5.41 20z\"/>\n",
              "  </svg>\n",
              "      </button>\n",
              "      \n",
              "  <style>\n",
              "    .colab-df-container {\n",
              "      display:flex;\n",
              "      flex-wrap:wrap;\n",
              "      gap: 12px;\n",
              "    }\n",
              "\n",
              "    .colab-df-convert {\n",
              "      background-color: #E8F0FE;\n",
              "      border: none;\n",
              "      border-radius: 50%;\n",
              "      cursor: pointer;\n",
              "      display: none;\n",
              "      fill: #1967D2;\n",
              "      height: 32px;\n",
              "      padding: 0 0 0 0;\n",
              "      width: 32px;\n",
              "    }\n",
              "\n",
              "    .colab-df-convert:hover {\n",
              "      background-color: #E2EBFA;\n",
              "      box-shadow: 0px 1px 2px rgba(60, 64, 67, 0.3), 0px 1px 3px 1px rgba(60, 64, 67, 0.15);\n",
              "      fill: #174EA6;\n",
              "    }\n",
              "\n",
              "    [theme=dark] .colab-df-convert {\n",
              "      background-color: #3B4455;\n",
              "      fill: #D2E3FC;\n",
              "    }\n",
              "\n",
              "    [theme=dark] .colab-df-convert:hover {\n",
              "      background-color: #434B5C;\n",
              "      box-shadow: 0px 1px 3px 1px rgba(0, 0, 0, 0.15);\n",
              "      filter: drop-shadow(0px 1px 2px rgba(0, 0, 0, 0.3));\n",
              "      fill: #FFFFFF;\n",
              "    }\n",
              "  </style>\n",
              "\n",
              "      <script>\n",
              "        const buttonEl =\n",
              "          document.querySelector('#df-0dc39d80-63a4-4bf1-9d4b-5372f9b072d1 button.colab-df-convert');\n",
              "        buttonEl.style.display =\n",
              "          google.colab.kernel.accessAllowed ? 'block' : 'none';\n",
              "\n",
              "        async function convertToInteractive(key) {\n",
              "          const element = document.querySelector('#df-0dc39d80-63a4-4bf1-9d4b-5372f9b072d1');\n",
              "          const dataTable =\n",
              "            await google.colab.kernel.invokeFunction('convertToInteractive',\n",
              "                                                     [key], {});\n",
              "          if (!dataTable) return;\n",
              "\n",
              "          const docLinkHtml = 'Like what you see? Visit the ' +\n",
              "            '<a target=\"_blank\" href=https://colab.research.google.com/notebooks/data_table.ipynb>data table notebook</a>'\n",
              "            + ' to learn more about interactive tables.';\n",
              "          element.innerHTML = '';\n",
              "          dataTable['output_type'] = 'display_data';\n",
              "          await google.colab.output.renderOutput(dataTable, element);\n",
              "          const docLink = document.createElement('div');\n",
              "          docLink.innerHTML = docLinkHtml;\n",
              "          element.appendChild(docLink);\n",
              "        }\n",
              "      </script>\n",
              "    </div>\n",
              "  </div>\n",
              "  "
            ]
          },
          "metadata": {},
          "execution_count": 8
        }
      ]
    },
    {
      "cell_type": "code",
      "source": [
        "df_transactions_fraud[df_transactions_fraud[\"RECEIVER_ACCOUNT_ID\"]==9886].set_index(\"SENDER_ACCOUNT_ID\")[\"TX_AMOUNT\"].plot(kind=\"barh\")"
      ],
      "metadata": {
        "colab": {
          "base_uri": "https://localhost:8080/",
          "height": 282
        },
        "id": "ELmieLU1xryJ",
        "outputId": "34bce510-b6bf-491c-c9e3-5da0382a2c4a"
      },
      "execution_count": null,
      "outputs": [
        {
          "output_type": "execute_result",
          "data": {
            "text/plain": [
              "<matplotlib.axes._subplots.AxesSubplot at 0x7f4973841f10>"
            ]
          },
          "metadata": {},
          "execution_count": 13
        },
        {
          "output_type": "display_data",
          "data": {
            "text/plain": [
              "<Figure size 432x288 with 1 Axes>"
            ],
            "image/png": "[encoded data removed]"
          },
          "metadata": {
            "needs_background": "light"
          }
        }
      ]
    },
    {
      "cell_type": "code",
      "source": [
        "df_transactions_fraud[\"RECEIVER_ACCOUNT_ID\"].value_counts()"
      ],
      "metadata": {
        "colab": {
          "base_uri": "https://localhost:8080/"
        },
        "id": "Pq4oI7zl72Jh",
        "outputId": "6ec250e8-6a57-4f60-937d-d2b23c384be3"
      },
      "execution_count": null,
      "outputs": [
        {
          "output_type": "execute_result",
          "data": {
            "text/plain": [
              "9701    6\n",
              "9886    6\n",
              "9876    6\n",
              "9967    6\n",
              "3590    5\n",
              "       ..\n",
              "2628    1\n",
              "8502    1\n",
              "9906    1\n",
              "8357    1\n",
              "3629    1\n",
              "Name: RECEIVER_ACCOUNT_ID, Length: 1030, dtype: int64"
            ]
          },
          "metadata": {},
          "execution_count": 14
        }
      ]
    },
    {
      "cell_type": "markdown",
      "source": [
        "**2. Low Transfer of Transactions diversity**"
      ],
      "metadata": {
        "id": "fMfwf6wFsVGk"
      }
    },
    {
      "cell_type": "markdown",
      "source": [],
      "metadata": {
        "id": "sINkVfvzM7F1"
      }
    },
    {
      "cell_type": "code",
      "source": [
        "dict1 = dict(df_transactions_fraud[\"RECEIVER_ACCOUNT_ID\"].value_counts())"
      ],
      "metadata": {
        "id": "0VOZd05j72Mq"
      },
      "execution_count": null,
      "outputs": []
    },
    {
      "cell_type": "code",
      "source": [
        "list1 = []\n",
        "for item, values in dict1.items():\n",
        "  if values < 2:\n",
        "    list1.append(item)"
      ],
      "metadata": {
        "id": "lOAiaynz72QC"
      },
      "execution_count": null,
      "outputs": []
    },
    {
      "cell_type": "code",
      "source": [
        "List_array = np.array(list1)"
      ],
      "metadata": {
        "id": "H3O1fmHq72V4"
      },
      "execution_count": null,
      "outputs": []
    },
    {
      "cell_type": "code",
      "source": [
        "#df_transactions_fraud.set_index(\"RECEIVER_ACCOUNT_ID\").loc[List_array].reset_index()[\"RECEIVER_ACCOUNT_ID\"].value_counts()"
      ],
      "metadata": {
        "id": "bxukuO9E72Y5"
      },
      "execution_count": null,
      "outputs": []
    },
    {
      "cell_type": "code",
      "source": [
        "df_transactions_fraud.set_index(\"RECEIVER_ACCOUNT_ID\").loc[List_array].sort_values(by=\"TX_AMOUNT\").head()"
      ],
      "metadata": {
        "id": "ne82M0vn72hg",
        "colab": {
          "base_uri": "https://localhost:8080/",
          "height": 238
        },
        "outputId": "a9f134d3-5cd5-4bb1-ce78-17ca6793042a"
      },
      "execution_count": null,
      "outputs": [
        {
          "output_type": "execute_result",
          "data": {
            "text/plain": [
              "                       TX_ID  SENDER_ACCOUNT_ID   TX_TYPE  TX_AMOUNT  \\\n",
              "RECEIVER_ACCOUNT_ID                                                    \n",
              "8709                 1316636               1453  TRANSFER       2.81   \n",
              "6047                  472880               6110  TRANSFER      10.06   \n",
              "5130                  513654               6047  TRANSFER      10.06   \n",
              "7804                  513406               5130  TRANSFER      10.06   \n",
              "6110                  475705               9549  TRANSFER      10.06   \n",
              "\n",
              "                     TIMESTAMP  IS_FRAUD  ALERT_ID  \n",
              "RECEIVER_ACCOUNT_ID                                 \n",
              "8709                       199      True        44  \n",
              "6047                        72      True       305  \n",
              "5130                        78      True       305  \n",
              "7804                        78      True       305  \n",
              "6110                        72      True       305  "
            ],
            "text/html": [
              "\n",
              "  <div id=\"df-deffbfc9-c03d-4e64-8001-78b43829d34f\">\n",
              "    <div class=\"colab-df-container\">\n",
              "      <div>\n",
              "<style scoped>\n",
              "    .dataframe tbody tr th:only-of-type {\n",
              "        vertical-align: middle;\n",
              "    }\n",
              "\n",
              "    .dataframe tbody tr th {\n",
              "        vertical-align: top;\n",
              "    }\n",
              "\n",
              "    .dataframe thead th {\n",
              "        text-align: right;\n",
              "    }\n",
              "</style>\n",
              "<table border=\"1\" class=\"dataframe\">\n",
              "  <thead>\n",
              "    <tr style=\"text-align: right;\">\n",
              "      <th></th>\n",
              "      <th>TX_ID</th>\n",
              "      <th>SENDER_ACCOUNT_ID</th>\n",
              "      <th>TX_TYPE</th>\n",
              "      <th>TX_AMOUNT</th>\n",
              "      <th>TIMESTAMP</th>\n",
              "      <th>IS_FRAUD</th>\n",
              "      <th>ALERT_ID</th>\n",
              "    </tr>\n",
              "    <tr>\n",
              "      <th>RECEIVER_ACCOUNT_ID</th>\n",
              "      <th></th>\n",
              "      <th></th>\n",
              "      <th></th>\n",
              "      <th></th>\n",
              "      <th></th>\n",
              "      <th></th>\n",
              "      <th></th>\n",
              "    </tr>\n",
              "  </thead>\n",
              "  <tbody>\n",
              "    <tr>\n",
              "      <th>8709</th>\n",
              "      <td>1316636</td>\n",
              "      <td>1453</td>\n",
              "      <td>TRANSFER</td>\n",
              "      <td>2.81</td>\n",
              "      <td>199</td>\n",
              "      <td>True</td>\n",
              "      <td>44</td>\n",
              "    </tr>\n",
              "    <tr>\n",
              "      <th>6047</th>\n",
              "      <td>472880</td>\n",
              "      <td>6110</td>\n",
              "      <td>TRANSFER</td>\n",
              "      <td>10.06</td>\n",
              "      <td>72</td>\n",
              "      <td>True</td>\n",
              "      <td>305</td>\n",
              "    </tr>\n",
              "    <tr>\n",
              "      <th>5130</th>\n",
              "      <td>513654</td>\n",
              "      <td>6047</td>\n",
              "      <td>TRANSFER</td>\n",
              "      <td>10.06</td>\n",
              "      <td>78</td>\n",
              "      <td>True</td>\n",
              "      <td>305</td>\n",
              "    </tr>\n",
              "    <tr>\n",
              "      <th>7804</th>\n",
              "      <td>513406</td>\n",
              "      <td>5130</td>\n",
              "      <td>TRANSFER</td>\n",
              "      <td>10.06</td>\n",
              "      <td>78</td>\n",
              "      <td>True</td>\n",
              "      <td>305</td>\n",
              "    </tr>\n",
              "    <tr>\n",
              "      <th>6110</th>\n",
              "      <td>475705</td>\n",
              "      <td>9549</td>\n",
              "      <td>TRANSFER</td>\n",
              "      <td>10.06</td>\n",
              "      <td>72</td>\n",
              "      <td>True</td>\n",
              "      <td>305</td>\n",
              "    </tr>\n",
              "  </tbody>\n",
              "</table>\n",
              "</div>\n",
              "      <button class=\"colab-df-convert\" onclick=\"convertToInteractive('df-deffbfc9-c03d-4e64-8001-78b43829d34f')\"\n",
              "              title=\"Convert this dataframe to an interactive table.\"\n",
              "              style=\"display:none;\">\n",
              "        \n",
              "  <svg xmlns=\"http://www.w3.org/2000/svg\" height=\"24px\"viewBox=\"0 0 24 24\"\n",
              "       width=\"24px\">\n",
              "    <path d=\"M0 0h24v24H0V0z\" fill=\"none\"/>\n",
              "    <path d=\"M18.56 5.44l.94 2.06.94-2.06 2.06-.94-2.06-.94-.94-2.06-.94 2.06-2.06.94zm-11 1L8.5 8.5l.94-2.06 2.06-.94-2.06-.94L8.5 2.5l-.94 2.06-2.06.94zm10 10l.94 2.06.94-2.06 2.06-.94-2.06-.94-.94-2.06-.94 2.06-2.06.94z\"/><path d=\"M17.41 7.96l-1.37-1.37c-.4-.4-.92-.59-1.43-.59-.52 0-1.04.2-1.43.59L10.3 9.45l-7.72 7.72c-.78.78-.78 2.05 0 2.83L4 21.41c.39.39.9.59 1.41.59.51 0 1.02-.2 1.41-.59l7.78-7.78 2.81-2.81c.8-.78.8-2.07 0-2.86zM5.41 20L4 18.59l7.72-7.72 1.47 1.35L5.41 20z\"/>\n",
              "  </svg>\n",
              "      </button>\n",
              "      \n",
              "  <style>\n",
              "    .colab-df-container {\n",
              "      display:flex;\n",
              "      flex-wrap:wrap;\n",
              "      gap: 12px;\n",
              "    }\n",
              "\n",
              "    .colab-df-convert {\n",
              "      background-color: #E8F0FE;\n",
              "      border: none;\n",
              "      border-radius: 50%;\n",
              "      cursor: pointer;\n",
              "      display: none;\n",
              "      fill: #1967D2;\n",
              "      height: 32px;\n",
              "      padding: 0 0 0 0;\n",
              "      width: 32px;\n",
              "    }\n",
              "\n",
              "    .colab-df-convert:hover {\n",
              "      background-color: #E2EBFA;\n",
              "      box-shadow: 0px 1px 2px rgba(60, 64, 67, 0.3), 0px 1px 3px 1px rgba(60, 64, 67, 0.15);\n",
              "      fill: #174EA6;\n",
              "    }\n",
              "\n",
              "    [theme=dark] .colab-df-convert {\n",
              "      background-color: #3B4455;\n",
              "      fill: #D2E3FC;\n",
              "    }\n",
              "\n",
              "    [theme=dark] .colab-df-convert:hover {\n",
              "      background-color: #434B5C;\n",
              "      box-shadow: 0px 1px 3px 1px rgba(0, 0, 0, 0.15);\n",
              "      filter: drop-shadow(0px 1px 2px rgba(0, 0, 0, 0.3));\n",
              "      fill: #FFFFFF;\n",
              "    }\n",
              "  </style>\n",
              "\n",
              "      <script>\n",
              "        const buttonEl =\n",
              "          document.querySelector('#df-deffbfc9-c03d-4e64-8001-78b43829d34f button.colab-df-convert');\n",
              "        buttonEl.style.display =\n",
              "          google.colab.kernel.accessAllowed ? 'block' : 'none';\n",
              "\n",
              "        async function convertToInteractive(key) {\n",
              "          const element = document.querySelector('#df-deffbfc9-c03d-4e64-8001-78b43829d34f');\n",
              "          const dataTable =\n",
              "            await google.colab.kernel.invokeFunction('convertToInteractive',\n",
              "                                                     [key], {});\n",
              "          if (!dataTable) return;\n",
              "\n",
              "          const docLinkHtml = 'Like what you see? Visit the ' +\n",
              "            '<a target=\"_blank\" href=https://colab.research.google.com/notebooks/data_table.ipynb>data table notebook</a>'\n",
              "            + ' to learn more about interactive tables.';\n",
              "          element.innerHTML = '';\n",
              "          dataTable['output_type'] = 'display_data';\n",
              "          await google.colab.output.renderOutput(dataTable, element);\n",
              "          const docLink = document.createElement('div');\n",
              "          docLink.innerHTML = docLinkHtml;\n",
              "          element.appendChild(docLink);\n",
              "        }\n",
              "      </script>\n",
              "    </div>\n",
              "  </div>\n",
              "  "
            ]
          },
          "metadata": {},
          "execution_count": 32
        }
      ]
    },
    {
      "cell_type": "markdown",
      "source": [
        "**3. Consolidation transction close to threshold**"
      ],
      "metadata": {
        "id": "tUe7aUMyzqjG"
      }
    },
    {
      "cell_type": "markdown",
      "source": [
        "If say the threshold of transfering any amount should not be less than 3 dollars. Any transaction below the threshold is considered suspicious, most especially when there's high frequency of the same amount on either a Sender Account or Reciever Account."
      ],
      "metadata": {
        "id": "eElQeKB9OFKU"
      }
    },
    {
      "cell_type": "code",
      "source": [
        "#All the transactions below are under the threshold of 3 are considered suspcious to AML/TF/PF\n",
        "\n",
        "df_transactions_fraud[df_transactions_fraud[\"TX_AMOUNT\"] < 3].sort_values(by=\"RECEIVER_ACCOUNT_ID\")"
      ],
      "metadata": {
        "colab": {
          "base_uri": "https://localhost:8080/",
          "height": 424
        },
        "id": "5hQmt57Xypqi",
        "outputId": "a2afbfea-1780-4f86-db68-5320598219db"
      },
      "execution_count": null,
      "outputs": [
        {
          "output_type": "execute_result",
          "data": {
            "text/plain": [
              "           TX_ID  SENDER_ACCOUNT_ID  RECEIVER_ACCOUNT_ID   TX_TYPE  TX_AMOUNT  \\\n",
              "168427    168428               4322                  113  TRANSFER       2.94   \n",
              "156731    156732               9507                  113  TRANSFER       2.94   \n",
              "143026    143027               5578                  113  TRANSFER       2.94   \n",
              "130345    130346               9872                  113  TRANSFER       2.94   \n",
              "1247089  1247090               8899                  498  TRANSFER       2.66   \n",
              "...          ...                ...                  ...       ...        ...   \n",
              "494545    494546               7706                 9972  TRANSFER       2.74   \n",
              "481162    481163               7564                 9972  TRANSFER       2.69   \n",
              "466589    466590               8992                 9972  TRANSFER       2.74   \n",
              "495243    495244                316                 9985  TRANSFER       2.92   \n",
              "481908    481909               9979                 9985  TRANSFER       2.93   \n",
              "\n",
              "         TIMESTAMP  IS_FRAUD  ALERT_ID  \n",
              "168427          26      True        66  \n",
              "156731          24      True        66  \n",
              "143026          22      True        66  \n",
              "130345          20      True        66  \n",
              "1247089        188      True        98  \n",
              "...            ...       ...       ...  \n",
              "494545          75      True       109  \n",
              "481162          73      True       109  \n",
              "466589          71      True       109  \n",
              "495243          75      True       149  \n",
              "481908          73      True       149  \n",
              "\n",
              "[93 rows x 8 columns]"
            ],
            "text/html": [
              "\n",
              "  <div id=\"df-99b44a31-ccab-4ac9-9ceb-95673eedb2b8\">\n",
              "    <div class=\"colab-df-container\">\n",
              "      <div>\n",
              "<style scoped>\n",
              "    .dataframe tbody tr th:only-of-type {\n",
              "        vertical-align: middle;\n",
              "    }\n",
              "\n",
              "    .dataframe tbody tr th {\n",
              "        vertical-align: top;\n",
              "    }\n",
              "\n",
              "    .dataframe thead th {\n",
              "        text-align: right;\n",
              "    }\n",
              "</style>\n",
              "<table border=\"1\" class=\"dataframe\">\n",
              "  <thead>\n",
              "    <tr style=\"text-align: right;\">\n",
              "      <th></th>\n",
              "      <th>TX_ID</th>\n",
              "      <th>SENDER_ACCOUNT_ID</th>\n",
              "      <th>RECEIVER_ACCOUNT_ID</th>\n",
              "      <th>TX_TYPE</th>\n",
              "      <th>TX_AMOUNT</th>\n",
              "      <th>TIMESTAMP</th>\n",
              "      <th>IS_FRAUD</th>\n",
              "      <th>ALERT_ID</th>\n",
              "    </tr>\n",
              "  </thead>\n",
              "  <tbody>\n",
              "    <tr>\n",
              "      <th>168427</th>\n",
              "      <td>168428</td>\n",
              "      <td>4322</td>\n",
              "      <td>113</td>\n",
              "      <td>TRANSFER</td>\n",
              "      <td>2.94</td>\n",
              "      <td>26</td>\n",
              "      <td>True</td>\n",
              "      <td>66</td>\n",
              "    </tr>\n",
              "    <tr>\n",
              "      <th>156731</th>\n",
              "      <td>156732</td>\n",
              "      <td>9507</td>\n",
              "      <td>113</td>\n",
              "      <td>TRANSFER</td>\n",
              "      <td>2.94</td>\n",
              "      <td>24</td>\n",
              "      <td>True</td>\n",
              "      <td>66</td>\n",
              "    </tr>\n",
              "    <tr>\n",
              "      <th>143026</th>\n",
              "      <td>143027</td>\n",
              "      <td>5578</td>\n",
              "      <td>113</td>\n",
              "      <td>TRANSFER</td>\n",
              "      <td>2.94</td>\n",
              "      <td>22</td>\n",
              "      <td>True</td>\n",
              "      <td>66</td>\n",
              "    </tr>\n",
              "    <tr>\n",
              "      <th>130345</th>\n",
              "      <td>130346</td>\n",
              "      <td>9872</td>\n",
              "      <td>113</td>\n",
              "      <td>TRANSFER</td>\n",
              "      <td>2.94</td>\n",
              "      <td>20</td>\n",
              "      <td>True</td>\n",
              "      <td>66</td>\n",
              "    </tr>\n",
              "    <tr>\n",
              "      <th>1247089</th>\n",
              "      <td>1247090</td>\n",
              "      <td>8899</td>\n",
              "      <td>498</td>\n",
              "      <td>TRANSFER</td>\n",
              "      <td>2.66</td>\n",
              "      <td>188</td>\n",
              "      <td>True</td>\n",
              "      <td>98</td>\n",
              "    </tr>\n",
              "    <tr>\n",
              "      <th>...</th>\n",
              "      <td>...</td>\n",
              "      <td>...</td>\n",
              "      <td>...</td>\n",
              "      <td>...</td>\n",
              "      <td>...</td>\n",
              "      <td>...</td>\n",
              "      <td>...</td>\n",
              "      <td>...</td>\n",
              "    </tr>\n",
              "    <tr>\n",
              "      <th>494545</th>\n",
              "      <td>494546</td>\n",
              "      <td>7706</td>\n",
              "      <td>9972</td>\n",
              "      <td>TRANSFER</td>\n",
              "      <td>2.74</td>\n",
              "      <td>75</td>\n",
              "      <td>True</td>\n",
              "      <td>109</td>\n",
              "    </tr>\n",
              "    <tr>\n",
              "      <th>481162</th>\n",
              "      <td>481163</td>\n",
              "      <td>7564</td>\n",
              "      <td>9972</td>\n",
              "      <td>TRANSFER</td>\n",
              "      <td>2.69</td>\n",
              "      <td>73</td>\n",
              "      <td>True</td>\n",
              "      <td>109</td>\n",
              "    </tr>\n",
              "    <tr>\n",
              "      <th>466589</th>\n",
              "      <td>466590</td>\n",
              "      <td>8992</td>\n",
              "      <td>9972</td>\n",
              "      <td>TRANSFER</td>\n",
              "      <td>2.74</td>\n",
              "      <td>71</td>\n",
              "      <td>True</td>\n",
              "      <td>109</td>\n",
              "    </tr>\n",
              "    <tr>\n",
              "      <th>495243</th>\n",
              "      <td>495244</td>\n",
              "      <td>316</td>\n",
              "      <td>9985</td>\n",
              "      <td>TRANSFER</td>\n",
              "      <td>2.92</td>\n",
              "      <td>75</td>\n",
              "      <td>True</td>\n",
              "      <td>149</td>\n",
              "    </tr>\n",
              "    <tr>\n",
              "      <th>481908</th>\n",
              "      <td>481909</td>\n",
              "      <td>9979</td>\n",
              "      <td>9985</td>\n",
              "      <td>TRANSFER</td>\n",
              "      <td>2.93</td>\n",
              "      <td>73</td>\n",
              "      <td>True</td>\n",
              "      <td>149</td>\n",
              "    </tr>\n",
              "  </tbody>\n",
              "</table>\n",
              "<p>93 rows × 8 columns</p>\n",
              "</div>\n",
              "      <button class=\"colab-df-convert\" onclick=\"convertToInteractive('df-99b44a31-ccab-4ac9-9ceb-95673eedb2b8')\"\n",
              "              title=\"Convert this dataframe to an interactive table.\"\n",
              "              style=\"display:none;\">\n",
              "        \n",
              "  <svg xmlns=\"http://www.w3.org/2000/svg\" height=\"24px\"viewBox=\"0 0 24 24\"\n",
              "       width=\"24px\">\n",
              "    <path d=\"M0 0h24v24H0V0z\" fill=\"none\"/>\n",
              "    <path d=\"M18.56 5.44l.94 2.06.94-2.06 2.06-.94-2.06-.94-.94-2.06-.94 2.06-2.06.94zm-11 1L8.5 8.5l.94-2.06 2.06-.94-2.06-.94L8.5 2.5l-.94 2.06-2.06.94zm10 10l.94 2.06.94-2.06 2.06-.94-2.06-.94-.94-2.06-.94 2.06-2.06.94z\"/><path d=\"M17.41 7.96l-1.37-1.37c-.4-.4-.92-.59-1.43-.59-.52 0-1.04.2-1.43.59L10.3 9.45l-7.72 7.72c-.78.78-.78 2.05 0 2.83L4 21.41c.39.39.9.59 1.41.59.51 0 1.02-.2 1.41-.59l7.78-7.78 2.81-2.81c.8-.78.8-2.07 0-2.86zM5.41 20L4 18.59l7.72-7.72 1.47 1.35L5.41 20z\"/>\n",
              "  </svg>\n",
              "      </button>\n",
              "      \n",
              "  <style>\n",
              "    .colab-df-container {\n",
              "      display:flex;\n",
              "      flex-wrap:wrap;\n",
              "      gap: 12px;\n",
              "    }\n",
              "\n",
              "    .colab-df-convert {\n",
              "      background-color: #E8F0FE;\n",
              "      border: none;\n",
              "      border-radius: 50%;\n",
              "      cursor: pointer;\n",
              "      display: none;\n",
              "      fill: #1967D2;\n",
              "      height: 32px;\n",
              "      padding: 0 0 0 0;\n",
              "      width: 32px;\n",
              "    }\n",
              "\n",
              "    .colab-df-convert:hover {\n",
              "      background-color: #E2EBFA;\n",
              "      box-shadow: 0px 1px 2px rgba(60, 64, 67, 0.3), 0px 1px 3px 1px rgba(60, 64, 67, 0.15);\n",
              "      fill: #174EA6;\n",
              "    }\n",
              "\n",
              "    [theme=dark] .colab-df-convert {\n",
              "      background-color: #3B4455;\n",
              "      fill: #D2E3FC;\n",
              "    }\n",
              "\n",
              "    [theme=dark] .colab-df-convert:hover {\n",
              "      background-color: #434B5C;\n",
              "      box-shadow: 0px 1px 3px 1px rgba(0, 0, 0, 0.15);\n",
              "      filter: drop-shadow(0px 1px 2px rgba(0, 0, 0, 0.3));\n",
              "      fill: #FFFFFF;\n",
              "    }\n",
              "  </style>\n",
              "\n",
              "      <script>\n",
              "        const buttonEl =\n",
              "          document.querySelector('#df-99b44a31-ccab-4ac9-9ceb-95673eedb2b8 button.colab-df-convert');\n",
              "        buttonEl.style.display =\n",
              "          google.colab.kernel.accessAllowed ? 'block' : 'none';\n",
              "\n",
              "        async function convertToInteractive(key) {\n",
              "          const element = document.querySelector('#df-99b44a31-ccab-4ac9-9ceb-95673eedb2b8');\n",
              "          const dataTable =\n",
              "            await google.colab.kernel.invokeFunction('convertToInteractive',\n",
              "                                                     [key], {});\n",
              "          if (!dataTable) return;\n",
              "\n",
              "          const docLinkHtml = 'Like what you see? Visit the ' +\n",
              "            '<a target=\"_blank\" href=https://colab.research.google.com/notebooks/data_table.ipynb>data table notebook</a>'\n",
              "            + ' to learn more about interactive tables.';\n",
              "          element.innerHTML = '';\n",
              "          dataTable['output_type'] = 'display_data';\n",
              "          await google.colab.output.renderOutput(dataTable, element);\n",
              "          const docLink = document.createElement('div');\n",
              "          docLink.innerHTML = docLinkHtml;\n",
              "          element.appendChild(docLink);\n",
              "        }\n",
              "      </script>\n",
              "    </div>\n",
              "  </div>\n",
              "  "
            ]
          },
          "metadata": {},
          "execution_count": 53
        }
      ]
    },
    {
      "cell_type": "code",
      "source": [
        "df1 = df_transactions_fraud[df_transactions_fraud[\"TX_AMOUNT\"] < 3].sort_values(by=\"RECEIVER_ACCOUNT_ID\").groupby([\"RECEIVER_ACCOUNT_ID\",\"TX_AMOUNT\"]).count().sort_values(by=\"TX_ID\", ascending=False).reset_index()[[\"RECEIVER_ACCOUNT_ID\",\"TX_AMOUNT\",\"TX_ID\"]]"
      ],
      "metadata": {
        "id": "h66amjLfyptN"
      },
      "execution_count": null,
      "outputs": []
    },
    {
      "cell_type": "code",
      "source": [
        "df1.rename(columns={\"TX_ID\":\"Frequency of (TX_AMOUNT)\"}, inplace=True)"
      ],
      "metadata": {
        "id": "Fx2dukxIypv6"
      },
      "execution_count": null,
      "outputs": []
    },
    {
      "cell_type": "code",
      "source": [
        "df1.set_index(\"RECEIVER_ACCOUNT_ID\")[:11].plot(kind=\"barh\", figsize=(13,7))\n",
        "plt.ylabel(\"RECEIVER_ACCOUNT_ID\", fontweight='bold', fontdict={\"fontsize\":13})\n",
        "plt.show()"
      ],
      "metadata": {
        "colab": {
          "base_uri": "https://localhost:8080/",
          "height": 428
        },
        "id": "gQ3GamWzVACQ",
        "outputId": "285d4b88-effb-495b-cdf0-8aefec5004ad"
      },
      "execution_count": null,
      "outputs": [
        {
          "output_type": "display_data",
          "data": {
            "text/plain": [
              "<Figure size 936x504 with 1 Axes>"
            ],
            "image/png": "[encoded data removed]"
          },
          "metadata": {
            "needs_background": "light"
          }
        }
      ]
    },
    {
      "cell_type": "code",
      "source": [],
      "metadata": {
        "id": "i_eQUjvUXlc0"
      },
      "execution_count": null,
      "outputs": []
    },
    {
      "cell_type": "code",
      "source": [],
      "metadata": {
        "id": "pukcmDf_Xlf2"
      },
      "execution_count": null,
      "outputs": []
    },
    {
      "cell_type": "code",
      "source": [],
      "metadata": {
        "id": "OvRyNhEq72o6"
      },
      "execution_count": null,
      "outputs": []
    }
  ]
}